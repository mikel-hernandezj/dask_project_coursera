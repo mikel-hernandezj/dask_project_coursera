{
 "cells": [
  {
   "cell_type": "code",
   "execution_count": 1,
   "metadata": {},
   "outputs": [],
   "source": [
    "from time import sleep\n",
    "\n",
    "def aplicar_descuento(precio):\n",
    "    sleep(2)\n",
    "    precio = precio * 0.8\n",
    "    return precio\n",
    "\n",
    "def obtener_total(precio1, precio2):\n",
    "    sleep(2)\n",
    "    return precio1 + precio2\n",
    "\n",
    "def obtener_precio_total(precio1, precio2):\n",
    "    sleep(2)\n",
    "    valor1 = aplicar_descuento(precio1)\n",
    "    valor2 = aplicar_descuento(precio2)\n",
    "    obtener_total(valor1, valor2)"
   ]
  },
  {
   "cell_type": "code",
   "execution_count": 3,
   "metadata": {},
   "outputs": [],
   "source": [
    "import dask\n",
    "from dask import delayed"
   ]
  },
  {
   "cell_type": "code",
   "execution_count": 7,
   "metadata": {},
   "outputs": [],
   "source": [
    "x = delayed(aplicar_descuento(100))\n",
    "y = delayed(aplicar_descuento(300))\n",
    "z = delayed(obtener_precio_total)(x,y)"
   ]
  },
  {
   "cell_type": "code",
   "execution_count": 8,
   "metadata": {},
   "outputs": [
    {
     "name": "stdout",
     "output_type": "stream",
     "text": [
      "Wall time: 8.01 s\n"
     ]
    }
   ],
   "source": [
    "%%time\n",
    "z.compute()"
   ]
  },
  {
   "cell_type": "markdown",
   "metadata": {},
   "source": [
    "# Dataframes"
   ]
  },
  {
   "cell_type": "code",
   "execution_count": 10,
   "metadata": {},
   "outputs": [],
   "source": [
    "import dask\n",
    "import dask.dataframe as dd"
   ]
  },
  {
   "cell_type": "code",
   "execution_count": 11,
   "metadata": {},
   "outputs": [
    {
     "data": {
      "text/html": [
       "<div><strong>Dask DataFrame Structure:</strong></div>\n",
       "<div>\n",
       "<style scoped>\n",
       "    .dataframe tbody tr th:only-of-type {\n",
       "        vertical-align: middle;\n",
       "    }\n",
       "\n",
       "    .dataframe tbody tr th {\n",
       "        vertical-align: top;\n",
       "    }\n",
       "\n",
       "    .dataframe thead th {\n",
       "        text-align: right;\n",
       "    }\n",
       "</style>\n",
       "<table border=\"1\" class=\"dataframe\">\n",
       "  <thead>\n",
       "    <tr style=\"text-align: right;\">\n",
       "      <th></th>\n",
       "      <th>id</th>\n",
       "      <th>name</th>\n",
       "      <th>x</th>\n",
       "      <th>y</th>\n",
       "    </tr>\n",
       "    <tr>\n",
       "      <th>npartitions=30</th>\n",
       "      <th></th>\n",
       "      <th></th>\n",
       "      <th></th>\n",
       "      <th></th>\n",
       "    </tr>\n",
       "  </thead>\n",
       "  <tbody>\n",
       "    <tr>\n",
       "      <th>2000-01-01</th>\n",
       "      <td>int32</td>\n",
       "      <td>object</td>\n",
       "      <td>float64</td>\n",
       "      <td>float64</td>\n",
       "    </tr>\n",
       "    <tr>\n",
       "      <th>2000-01-02</th>\n",
       "      <td>...</td>\n",
       "      <td>...</td>\n",
       "      <td>...</td>\n",
       "      <td>...</td>\n",
       "    </tr>\n",
       "    <tr>\n",
       "      <th>...</th>\n",
       "      <td>...</td>\n",
       "      <td>...</td>\n",
       "      <td>...</td>\n",
       "      <td>...</td>\n",
       "    </tr>\n",
       "    <tr>\n",
       "      <th>2000-01-30</th>\n",
       "      <td>...</td>\n",
       "      <td>...</td>\n",
       "      <td>...</td>\n",
       "      <td>...</td>\n",
       "    </tr>\n",
       "    <tr>\n",
       "      <th>2000-01-31</th>\n",
       "      <td>...</td>\n",
       "      <td>...</td>\n",
       "      <td>...</td>\n",
       "      <td>...</td>\n",
       "    </tr>\n",
       "  </tbody>\n",
       "</table>\n",
       "</div>\n",
       "<div>Dask Name: make-timeseries, 30 tasks</div>"
      ],
      "text/plain": [
       "Dask DataFrame Structure:\n",
       "                   id    name        x        y\n",
       "npartitions=30                                 \n",
       "2000-01-01      int32  object  float64  float64\n",
       "2000-01-02        ...     ...      ...      ...\n",
       "...               ...     ...      ...      ...\n",
       "2000-01-30        ...     ...      ...      ...\n",
       "2000-01-31        ...     ...      ...      ...\n",
       "Dask Name: make-timeseries, 30 tasks"
      ]
     },
     "execution_count": 11,
     "metadata": {},
     "output_type": "execute_result"
    }
   ],
   "source": [
    "mi_dataframe = dask.datasets.timeseries()\n",
    "mi_dataframe"
   ]
  },
  {
   "cell_type": "code",
   "execution_count": 12,
   "metadata": {},
   "outputs": [
    {
     "data": {
      "text/html": [
       "<div>\n",
       "<style scoped>\n",
       "    .dataframe tbody tr th:only-of-type {\n",
       "        vertical-align: middle;\n",
       "    }\n",
       "\n",
       "    .dataframe tbody tr th {\n",
       "        vertical-align: top;\n",
       "    }\n",
       "\n",
       "    .dataframe thead th {\n",
       "        text-align: right;\n",
       "    }\n",
       "</style>\n",
       "<table border=\"1\" class=\"dataframe\">\n",
       "  <thead>\n",
       "    <tr style=\"text-align: right;\">\n",
       "      <th></th>\n",
       "      <th>id</th>\n",
       "      <th>name</th>\n",
       "      <th>x</th>\n",
       "      <th>y</th>\n",
       "    </tr>\n",
       "    <tr>\n",
       "      <th>timestamp</th>\n",
       "      <th></th>\n",
       "      <th></th>\n",
       "      <th></th>\n",
       "      <th></th>\n",
       "    </tr>\n",
       "  </thead>\n",
       "  <tbody>\n",
       "    <tr>\n",
       "      <th>2000-01-01 00:00:00</th>\n",
       "      <td>1025</td>\n",
       "      <td>Ursula</td>\n",
       "      <td>0.880671</td>\n",
       "      <td>0.788765</td>\n",
       "    </tr>\n",
       "    <tr>\n",
       "      <th>2000-01-01 00:00:01</th>\n",
       "      <td>1052</td>\n",
       "      <td>Bob</td>\n",
       "      <td>0.499288</td>\n",
       "      <td>0.802256</td>\n",
       "    </tr>\n",
       "    <tr>\n",
       "      <th>2000-01-01 00:00:02</th>\n",
       "      <td>1029</td>\n",
       "      <td>Victor</td>\n",
       "      <td>-0.725780</td>\n",
       "      <td>0.026028</td>\n",
       "    </tr>\n",
       "    <tr>\n",
       "      <th>2000-01-01 00:00:03</th>\n",
       "      <td>972</td>\n",
       "      <td>Ursula</td>\n",
       "      <td>0.480017</td>\n",
       "      <td>0.460402</td>\n",
       "    </tr>\n",
       "    <tr>\n",
       "      <th>2000-01-01 00:00:04</th>\n",
       "      <td>941</td>\n",
       "      <td>Yvonne</td>\n",
       "      <td>0.022861</td>\n",
       "      <td>-0.489006</td>\n",
       "    </tr>\n",
       "  </tbody>\n",
       "</table>\n",
       "</div>"
      ],
      "text/plain": [
       "                       id    name         x         y\n",
       "timestamp                                            \n",
       "2000-01-01 00:00:00  1025  Ursula  0.880671  0.788765\n",
       "2000-01-01 00:00:01  1052     Bob  0.499288  0.802256\n",
       "2000-01-01 00:00:02  1029  Victor -0.725780  0.026028\n",
       "2000-01-01 00:00:03   972  Ursula  0.480017  0.460402\n",
       "2000-01-01 00:00:04   941  Yvonne  0.022861 -0.489006"
      ]
     },
     "execution_count": 12,
     "metadata": {},
     "output_type": "execute_result"
    }
   ],
   "source": [
    "mi_dataframe.head()"
   ]
  },
  {
   "cell_type": "code",
   "execution_count": 13,
   "metadata": {},
   "outputs": [
    {
     "data": {
      "text/plain": [
       "Dask Series Structure:\n",
       "npartitions=1\n",
       "    float64\n",
       "        ...\n",
       "Name: y, dtype: float64\n",
       "Dask Name: sqrt, 67 tasks"
      ]
     },
     "execution_count": 13,
     "metadata": {},
     "output_type": "execute_result"
    }
   ],
   "source": [
    "df = mi_dataframe.groupby(\"name\").y.std()\n",
    "df"
   ]
  },
  {
   "cell_type": "code",
   "execution_count": 19,
   "metadata": {},
   "outputs": [
    {
     "data": {
      "text/plain": [
       "pandas.core.series.Series"
      ]
     },
     "execution_count": 19,
     "metadata": {},
     "output_type": "execute_result"
    }
   ],
   "source": [
    "df = df.persist() #si el dataframe no va a cambiar en el tiempo\n",
    "resultado = df.compute()\n",
    "type(resultado)"
   ]
  },
  {
   "cell_type": "code",
   "execution_count": 20,
   "metadata": {},
   "outputs": [
    {
     "data": {
      "text/plain": [
       "name\n",
       "Alice       0.577038\n",
       "Bob         0.576332\n",
       "Charlie     0.577976\n",
       "Dan         0.576278\n",
       "Edith       0.577237\n",
       "Frank       0.576047\n",
       "George      0.577348\n",
       "Hannah      0.578834\n",
       "Ingrid      0.576631\n",
       "Jerry       0.577424\n",
       "Kevin       0.576097\n",
       "Laura       0.577733\n",
       "Michael     0.577939\n",
       "Norbert     0.578530\n",
       "Oliver      0.576231\n",
       "Patricia    0.577654\n",
       "Quinn       0.579011\n",
       "Ray         0.578718\n",
       "Sarah       0.577913\n",
       "Tim         0.577731\n",
       "Ursula      0.576945\n",
       "Victor      0.578115\n",
       "Wendy       0.577745\n",
       "Xavier      0.576363\n",
       "Yvonne      0.578610\n",
       "Zelda       0.577076\n",
       "Name: y, dtype: float64"
      ]
     },
     "execution_count": 20,
     "metadata": {},
     "output_type": "execute_result"
    }
   ],
   "source": [
    "resultado"
   ]
  },
  {
   "cell_type": "markdown",
   "metadata": {},
   "source": [
    "# Dask Bags"
   ]
  },
  {
   "cell_type": "code",
   "execution_count": 21,
   "metadata": {},
   "outputs": [],
   "source": [
    "import dask.bag as bag"
   ]
  },
  {
   "cell_type": "code",
   "execution_count": 22,
   "metadata": {},
   "outputs": [],
   "source": [
    "mi_bag = dask.bag.from_sequence(['Nestor','Nicolas','Jaime','Ignacio'])"
   ]
  },
  {
   "cell_type": "code",
   "execution_count": 23,
   "metadata": {},
   "outputs": [],
   "source": [
    "mi_urls = dask.bag.from_url(['http://google.com', 'http://github.com'])"
   ]
  },
  {
   "cell_type": "code",
   "execution_count": 24,
   "metadata": {},
   "outputs": [
    {
     "data": {
      "text/plain": [
       "dask.bag<from_sequence, npartitions=4>"
      ]
     },
     "execution_count": 24,
     "metadata": {},
     "output_type": "execute_result"
    }
   ],
   "source": [
    "mi_bag"
   ]
  },
  {
   "cell_type": "code",
   "execution_count": 25,
   "metadata": {},
   "outputs": [
    {
     "data": {
      "text/plain": [
       "dask.bag<from_url, npartitions=2>"
      ]
     },
     "execution_count": 25,
     "metadata": {},
     "output_type": "execute_result"
    }
   ],
   "source": [
    "mi_urls"
   ]
  },
  {
   "cell_type": "code",
   "execution_count": 27,
   "metadata": {},
   "outputs": [
    {
     "name": "stdout",
     "output_type": "stream",
     "text": [
      "Collecting mimesis\n",
      "  Downloading mimesis-4.1.3.tar.gz (2.8 MB)\n",
      "Building wheels for collected packages: mimesis\n",
      "  Building wheel for mimesis (setup.py): started\n",
      "  Building wheel for mimesis (setup.py): finished with status 'done'\n",
      "  Created wheel for mimesis: filename=mimesis-4.1.3-py3-none-any.whl size=2849749 sha256=941ffb0d1a844299a9aa66cff5376dfa5cb9a11e71e36436b242b0c3eb7eaf60\n",
      "  Stored in directory: c:\\users\\administrator\\appdata\\local\\pip\\cache\\wheels\\0c\\02\\16\\868723676a8615ec2e15f46b7fb51f1dd2a910afdb64a61aa6\n",
      "Successfully built mimesis\n",
      "Installing collected packages: mimesis\n",
      "Successfully installed mimesis-4.1.3\n"
     ]
    }
   ],
   "source": [
    "!pip install mimesis"
   ]
  },
  {
   "cell_type": "code",
   "execution_count": 28,
   "metadata": {},
   "outputs": [],
   "source": [
    "import dask\n",
    "import dask.bag\n",
    "import json\n",
    "import os"
   ]
  },
  {
   "cell_type": "code",
   "execution_count": 30,
   "metadata": {},
   "outputs": [],
   "source": [
    "os.makedirs('directorio', exist_ok=True)"
   ]
  },
  {
   "cell_type": "code",
   "execution_count": 31,
   "metadata": {},
   "outputs": [],
   "source": [
    "mi_bag = dask.datasets.make_people()"
   ]
  },
  {
   "cell_type": "code",
   "execution_count": 32,
   "metadata": {},
   "outputs": [
    {
     "data": {
      "text/plain": [
       "dask.bag<mimesis, npartitions=10>"
      ]
     },
     "execution_count": 32,
     "metadata": {},
     "output_type": "execute_result"
    }
   ],
   "source": [
    "mi_bag"
   ]
  },
  {
   "cell_type": "code",
   "execution_count": 33,
   "metadata": {},
   "outputs": [
    {
     "data": {
      "text/plain": [
       "['C:/Users/Administrator/Desktop/Dask/directorio/0.json',\n",
       " 'C:/Users/Administrator/Desktop/Dask/directorio/1.json',\n",
       " 'C:/Users/Administrator/Desktop/Dask/directorio/2.json',\n",
       " 'C:/Users/Administrator/Desktop/Dask/directorio/3.json',\n",
       " 'C:/Users/Administrator/Desktop/Dask/directorio/4.json',\n",
       " 'C:/Users/Administrator/Desktop/Dask/directorio/5.json',\n",
       " 'C:/Users/Administrator/Desktop/Dask/directorio/6.json',\n",
       " 'C:/Users/Administrator/Desktop/Dask/directorio/7.json',\n",
       " 'C:/Users/Administrator/Desktop/Dask/directorio/8.json',\n",
       " 'C:/Users/Administrator/Desktop/Dask/directorio/9.json']"
      ]
     },
     "execution_count": 33,
     "metadata": {},
     "output_type": "execute_result"
    }
   ],
   "source": [
    "mi_bag.map(json.dumps).to_textfiles('directorio/*.json')"
   ]
  },
  {
   "cell_type": "code",
   "execution_count": 34,
   "metadata": {},
   "outputs": [
    {
     "data": {
      "text/plain": [
       "({'age': 47,\n",
       "  'name': ('Coy', 'Thompson'),\n",
       "  'occupation': 'Pallet Maker',\n",
       "  'telephone': '1-017-648-8032',\n",
       "  'address': {'address': '1019 Saint Josephs Crescent', 'city': 'Wayne'},\n",
       "  'credit-card': {'number': '4667 7154 2111 7143',\n",
       "   'expiration-date': '08/23'}},\n",
       " {'age': 62,\n",
       "  'name': ('Delsie', 'House'),\n",
       "  'occupation': 'Shop Keeper',\n",
       "  'telephone': '470-834-9260',\n",
       "  'address': {'address': '643 Livingston Drung', 'city': 'Brea'},\n",
       "  'credit-card': {'number': '2342 4216 7246 0061',\n",
       "   'expiration-date': '08/16'}},\n",
       " {'age': 48,\n",
       "  'name': ('Oretha', 'Tucker'),\n",
       "  'occupation': 'Lavatory Attendant',\n",
       "  'telephone': '515.886.0308',\n",
       "  'address': {'address': '243 Cleveland Square', 'city': 'Socorro'},\n",
       "  'credit-card': {'number': '2395 5816 3238 1297',\n",
       "   'expiration-date': '08/21'}})"
      ]
     },
     "execution_count": 34,
     "metadata": {},
     "output_type": "execute_result"
    }
   ],
   "source": [
    "mi_bag.take(3)"
   ]
  },
  {
   "cell_type": "code",
   "execution_count": 36,
   "metadata": {},
   "outputs": [
    {
     "data": {
      "text/plain": [
       "({'age': 62,\n",
       "  'name': ('Delsie', 'House'),\n",
       "  'occupation': 'Shop Keeper',\n",
       "  'telephone': '470-834-9260',\n",
       "  'address': {'address': '643 Livingston Drung', 'city': 'Brea'},\n",
       "  'credit-card': {'number': '2342 4216 7246 0061',\n",
       "   'expiration-date': '08/16'}},\n",
       " {'age': 66,\n",
       "  'name': ('Mauro', 'Hopper'),\n",
       "  'occupation': 'Circus Proprietor',\n",
       "  'telephone': '1-312-655-0652',\n",
       "  'address': {'address': '502 Vara Concession road', 'city': 'Christiansburg'},\n",
       "  'credit-card': {'number': '2229 9555 9870 0116',\n",
       "   'expiration-date': '08/19'}},\n",
       " {'age': 61,\n",
       "  'name': ('Farah', 'Walls'),\n",
       "  'occupation': 'Messenger',\n",
       "  'telephone': '1-319-883-6209',\n",
       "  'address': {'address': '100 Borica Viaduct', 'city': 'Wausau'},\n",
       "  'credit-card': {'number': '5153 2587 8433 5505',\n",
       "   'expiration-date': '08/20'}},\n",
       " {'age': 66,\n",
       "  'name': ('Leigh', 'Flores'),\n",
       "  'occupation': 'Plastics Consultant',\n",
       "  'telephone': '1-657-887-5123',\n",
       "  'address': {'address': '503 Tampa Green', 'city': 'Fullerton'},\n",
       "  'credit-card': {'number': '3463 712523 29840', 'expiration-date': '08/22'}})"
      ]
     },
     "execution_count": 36,
     "metadata": {},
     "output_type": "execute_result"
    }
   ],
   "source": [
    "mi_bag.filter(lambda record: record['age'] > 60).take(4)"
   ]
  },
  {
   "cell_type": "code",
   "execution_count": 37,
   "metadata": {},
   "outputs": [],
   "source": [
    "ocupaciones = mi_bag.map(lambda record: record['occupation'])"
   ]
  },
  {
   "cell_type": "code",
   "execution_count": 38,
   "metadata": {},
   "outputs": [
    {
     "data": {
      "text/plain": [
       "('Pallet Maker',\n",
       " 'Shop Keeper',\n",
       " 'Lavatory Attendant',\n",
       " 'Medical Officer',\n",
       " 'Airport Controller',\n",
       " 'Planning Technician',\n",
       " 'Special Needs',\n",
       " 'Toy Trader',\n",
       " 'Furniture Remover',\n",
       " 'Warehouse Manager')"
      ]
     },
     "execution_count": 38,
     "metadata": {},
     "output_type": "execute_result"
    }
   ],
   "source": [
    "ocupaciones.take(10)"
   ]
  },
  {
   "cell_type": "code",
   "execution_count": 39,
   "metadata": {},
   "outputs": [
    {
     "data": {
      "text/plain": [
       "10000"
      ]
     },
     "execution_count": 39,
     "metadata": {},
     "output_type": "execute_result"
    }
   ],
   "source": [
    "ocupaciones.count().compute()"
   ]
  },
  {
   "cell_type": "code",
   "execution_count": 42,
   "metadata": {},
   "outputs": [],
   "source": [
    "mis_datos = (mi_bag.filter(lambda record: record['age'] > 40).map(lambda record: record['occupation'])\n",
    "             .frequencies(sort=True).topk(10,key=1))"
   ]
  },
  {
   "cell_type": "code",
   "execution_count": 43,
   "metadata": {},
   "outputs": [
    {
     "data": {
      "text/plain": [
       "[('Car Wash Attendant', 14),\n",
       " ('Acoustic Engineer', 12),\n",
       " ('Technical Instructor', 12),\n",
       " ('Property Manager', 12),\n",
       " ('Actress', 11),\n",
       " ('Practice Manager', 11),\n",
       " ('Archivist', 11),\n",
       " ('Employment', 11),\n",
       " ('Motor Racing', 11),\n",
       " ('Tutor', 11)]"
      ]
     },
     "execution_count": 43,
     "metadata": {},
     "output_type": "execute_result"
    }
   ],
   "source": [
    "mis_datos.compute()"
   ]
  },
  {
   "cell_type": "code",
   "execution_count": null,
   "metadata": {},
   "outputs": [],
   "source": []
  }
 ],
 "metadata": {
  "kernelspec": {
   "display_name": "Python 3",
   "language": "python",
   "name": "python3"
  },
  "language_info": {
   "codemirror_mode": {
    "name": "ipython",
    "version": 3
   },
   "file_extension": ".py",
   "mimetype": "text/x-python",
   "name": "python",
   "nbconvert_exporter": "python",
   "pygments_lexer": "ipython3",
   "version": "3.7.6"
  }
 },
 "nbformat": 4,
 "nbformat_minor": 4
}
